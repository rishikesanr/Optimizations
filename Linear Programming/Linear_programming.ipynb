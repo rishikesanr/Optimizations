{
 "cells": [
  {
   "cell_type": "markdown",
   "id": "26cede23-b5b1-4fb2-9233-6a9b8229f9bc",
   "metadata": {},
   "source": [
    "# Case\n",
    "\n",
    "Using Integer Linear Program (ILP) to maximize the overall expected return for ElktroShack as it considers adding new product lines. This involves defining decision variables, the objective function, and constraints, which must be taken into account given the company's limited budget and space, along with specific business rules regarding product stocking.\n",
    "\n",
    "# Decision variables<br>\n",
    "\n",
    "Product Line Invest.($) (Sq.Ft.) of Return\n",
    "Smart TVs 6,000 125 8.1% <br>\n",
    "Large screen TVs 12,000 150 9.0% <br>\n",
    "Smart 3D TVs 20,000 200 11.0% <br>\n",
    "Blu-Ray DVD players 14,000 40 10.2% <br>\n",
    "HD DVD players 15,000 40 10.5% <br>\n",
    "Video Games 2,000 20 14.1% <br>\n",
    "Home Computers 32,000 100 13.2% <br>\n"
   ]
  },
  {
   "cell_type": "code",
   "execution_count": 4,
   "id": "d3c26bcf-f202-4f39-9db7-f629dc8eb301",
   "metadata": {},
   "outputs": [
    {
     "name": "stdout",
     "output_type": "stream",
     "text": [
      "Maximum return: $ 4992.0\n",
      "Values for x1 to x7:\n",
      "[1. 0. 0. 0. 0. 1. 1.]\n"
     ]
    }
   ],
   "source": [
    "import cvxpy as cvx\n",
    "\n",
    "#Defining decision variables\n",
    "#Binary variables for each product line (0 or 1)\n",
    "x = cvx.Variable(7, boolean=True)\n",
    "\n",
    "#Defining the constraints\n",
    "constraints = [\n",
    "    #Budget constraint: total investment cost should not exceed $45,000\n",
    "    6000*x[0] + 12000*x[1] + 20000*x[2] + 14000*x[3] + 15000*x[4] + 2000*x[5] + 32000*x[6] <= 45000,\n",
    "    \n",
    "    #Space constraint: total floor space used should not exceed 420 square feet\n",
    "    125*x[0] + 150*x[1] + 200*x[2] + 40*x[3] + 40*x[4] + 20*x[5] + 100*x[6] <= 420,\n",
    "    \n",
    "    #Product dependency constraint: Smart 3D TVs (x3) require at least one of Smart TVs (x1) or Large screen TVs (x2)\n",
    "    x[2] <= x[0] + x[1],\n",
    "    \n",
    "    #Mutual exclusivity constraint: Either Blu-Ray (x4) or HD DVD players (x5), not both\n",
    "    x[3] + x[4] <= 1,\n",
    "    \n",
    "    #Conditional stocking constraint: Stock Video Games (x6) if Large screen TVs (x2) are stocked\n",
    "    x[5] >= x[1],\n",
    "    \n",
    "    #Minimum product lines constraint: At least three new product lines should be introduced\n",
    "    cvx.sum(x) >= 3\n",
    "]\n",
    "\n",
    "#Defining the objective function\n",
    "#Maximizing the expected return from all selected product lines\n",
    "objective = cvx.Maximize(\n",
    "    0.081*6000*x[0] + 0.09*12000*x[1] + 0.11*20000*x[2] + 0.102*14000*x[3] + 0.105*15000*x[4] + 0.141*2000*x[5] + 0.132*32000*x[6]\n",
    ")\n",
    "\n",
    "#Problem definition\n",
    "#We are now defining an optimization problem which aims to maximize the objective function subject to the defined constraints\n",
    "problem = cvx.Problem(objective, constraints)\n",
    "\n",
    "#Solving the problem\n",
    "result = problem.solve()\n",
    "\n",
    "#Displaying the maximum return and the decision variable values which indicate which products to stock\n",
    "print(\"Maximum return: $\", result)\n",
    "print(\"Values for x1 to x7:\")\n",
    "print(x.value)\n"
   ]
  },
  {
   "cell_type": "code",
   "execution_count": null,
   "id": "dd7461a0-dc72-40d3-bc83-8cf0eec8fec9",
   "metadata": {},
   "outputs": [],
   "source": []
  }
 ],
 "metadata": {
  "kernelspec": {
   "display_name": "Python [conda env:epl_analytics] *",
   "language": "python",
   "name": "conda-env-epl_analytics-py"
  },
  "language_info": {
   "codemirror_mode": {
    "name": "ipython",
    "version": 3
   },
   "file_extension": ".py",
   "mimetype": "text/x-python",
   "name": "python",
   "nbconvert_exporter": "python",
   "pygments_lexer": "ipython3",
   "version": "3.8.18"
  }
 },
 "nbformat": 4,
 "nbformat_minor": 5
}
